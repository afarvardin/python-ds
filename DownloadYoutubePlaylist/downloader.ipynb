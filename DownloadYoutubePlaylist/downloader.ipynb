{
 "cells": [
  {
   "cell_type": "code",
   "execution_count": 19,
   "metadata": {},
   "outputs": [
    {
     "name": "stdout",
     "output_type": "stream",
     "text": [
      "Requirement already satisfied: pytube in c:\\users\\aminfarvardin\\appdata\\local\\programs\\python\\python38\\lib\\site-packages (12.1.0)\n",
      "Note: you may need to restart the kernel to use updated packages.\n"
     ]
    },
    {
     "name": "stderr",
     "output_type": "stream",
     "text": [
      "WARNING: There was an error checking the latest version of pip.\n"
     ]
    }
   ],
   "source": [
    "pip install pytube\n",
    "pip install ffmpeg-python\n"
   ]
  },
  {
   "cell_type": "code",
   "execution_count": 43,
   "metadata": {},
   "outputs": [],
   "source": [
    "youtube_playlist = \"https://www.youtube.com/watch?v=R-AG4-qZs1A&list=PLeo1K3hjS3uuvuAXhYjV2lMEShq2UYSwX\"\n",
    "save_path = \"C:\\\\Users\\\\AminFarvardin\\\\Downloads\\\\codebasics\\\\NLP\\\\\"\n"
   ]
  },
  {
   "cell_type": "code",
   "execution_count": 44,
   "metadata": {},
   "outputs": [
    {
     "name": "stdout",
     "output_type": "stream",
     "text": [
      "Downloading: NLP Tutorial Playlist Python\n",
      "1 - Introduction | NLP Tutorial For Beginners In Python  -  1\n",
      "2 - Why NLP is booming right now? | NLP Tutorial For Beginners In Python - 2\n",
      "3 - Regex For NLP: NLP Tutorial For Beginners In Python - 3\n",
      "4 - Three Category Of Techniques for NLP : NLP Tutorial For Beginners In Python - 4\n",
      "5 - NLP Tasks: NLP Tutorial For Beginners In Python - 5\n",
      "6 - NLP Pipeline: NLP Tutorial For Beginners In Python - 6\n",
      "7 - Spacy vs NLTK: NLP Tutorial For Beginners In Python - 7\n",
      "8 - Tokenization in Spacy: NLP Tutorial For Beginners - 8\n",
      "9 - Language Processing Pipeline in Spacy: NLP Tutorial For Beginners - 9\n",
      "10 - Stemming and Lemmatization: NLP Tutorial For Beginners - 10\n",
      "11 - Part Of Speech POS Tagging: NLP Tutorial For Beginners - 11\n",
      "12 - Named Entity Recognition (NER): NLP Tutorial For Beginners - 12\n",
      "13 - Text Representation Basics: NLP Tutorial For Beginners - 13\n",
      "14 - Text Representation: Label & One Hot Encoding: NLP Tutorial For Beginners - 14\n",
      "15 - Text Representation Using Bag Of Words (BOW): NLP Tutorial For Beginners - 15\n",
      "16 - Stop Words: NLP Tutorial For Beginners - 16\n",
      "Playlist is downloaded !!!\n"
     ]
    }
   ],
   "source": [
    "from pytube import Playlist, YouTube\n",
    "p = Playlist(youtube_playlist)\n",
    "\n",
    "print(f'Downloading: {p.title}')\n",
    "\n",
    "count = 0\n",
    "for v in p.videos:\n",
    "    count+=1\n",
    "    print(f'{count} - {v.title}')\n",
    "    st = v.streams.get_highest_resolution()\n",
    "    st.download(save_path)\n",
    "    # r = YouTube(v).streams.filter(resolution=\"1080p\").first().download(save_path, 'amin.mp4')\n",
    "    # yt.streams.filter(resolution=\"1080p\").first().download(save_path, 'amin.mp4')\n",
    "\n",
    "print('Playlist is downloaded !!!')\n"
   ]
  },
  {
   "cell_type": "code",
   "execution_count": null,
   "metadata": {},
   "outputs": [],
   "source": []
  },
  {
   "cell_type": "code",
   "execution_count": null,
   "metadata": {},
   "outputs": [],
   "source": []
  }
 ],
 "metadata": {
  "kernelspec": {
   "display_name": "Python 3.8.0 64-bit",
   "language": "python",
   "name": "python3"
  },
  "language_info": {
   "codemirror_mode": {
    "name": "ipython",
    "version": 3
   },
   "file_extension": ".py",
   "mimetype": "text/x-python",
   "name": "python",
   "nbconvert_exporter": "python",
   "pygments_lexer": "ipython3",
   "version": "3.8.0"
  },
  "orig_nbformat": 4,
  "vscode": {
   "interpreter": {
    "hash": "3594dedc40bbaa7754988d1d36d36553965e695fb7683c80fecf4705dc60749d"
   }
  }
 },
 "nbformat": 4,
 "nbformat_minor": 2
}
